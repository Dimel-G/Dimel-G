{
  "nbformat": 4,
  "nbformat_minor": 0,
  "metadata": {
    "colab": {
      "provenance": [],
      "include_colab_link": true
    },
    "kernelspec": {
      "name": "python3",
      "display_name": "Python 3"
    },
    "language_info": {
      "name": "python"
    }
  },
  "cells": [
    {
      "cell_type": "markdown",
      "metadata": {
        "id": "view-in-github",
        "colab_type": "text"
      },
      "source": [
        "<a href=\"https://colab.research.google.com/github/Dimel-G/Dimel-G/blob/main/M%C3%A9moire.ipynb\" target=\"_parent\"><img src=\"https://colab.research.google.com/assets/colab-badge.svg\" alt=\"Open In Colab\"/></a>"
      ]
    },
    {
      "cell_type": "markdown",
      "source": [
        "#**MEMOIRE DE RECHERCHE**"
      ],
      "metadata": {
        "id": "Nm4BY-yXqtSb"
      }
    },
    {
      "cell_type": "markdown",
      "source": [
        "**Téléchargement des données financières**"
      ],
      "metadata": {
        "id": "aBNkdWSyvQEX"
      }
    },
    {
      "cell_type": "markdown",
      "source": [
        "Indices sectoriels de la France. En France, il n'y a pas un indice qui suit particulièrement les performances du secteur Agricole. Dans ce cas nous avons pris Euronext Agribusiness Index."
      ],
      "metadata": {
        "id": "_tWwKis57tR9"
      }
    },
    {
      "cell_type": "code",
      "source": [
        "import yfinance as yf\n",
        "import pandas as pd\n",
        "\n",
        "# Définir les symboles des ETF pour chaque secteur\n",
        "etf_symbols = {\n",
        "    'Agriculture': 'AIGA.L',\n",
        "    'Transport': 'IEUR',\n",
        "    'Energy': 'EXH1.DE'\n",
        "}\n",
        "\n",
        "# Fonction pour extraire les données et calculer les rendements\n",
        "def extract_returns(symbol):\n",
        "    ticker = yf.Ticker(symbol)\n",
        "    data = ticker.history(period='5y')  # Extraction des données pour la dernière année\n",
        "    returns = data['Close'].pct_change().dropna()  # Calcul des rendements quotidiens\n",
        "    # Convert the index to timezone-naive datetime objects\n",
        "    returns.index = returns.index.tz_localize(None)\n",
        "    return returns\n",
        "\n",
        "# Extraire les rendements pour chaque ETF\n",
        "df1 = extract_returns(etf_symbols['Agriculture'])\n",
        "df2 = extract_returns(etf_symbols['Transport'])\n",
        "df3 = extract_returns(etf_symbols['Energy'])\n",
        "\n",
        "# Afficher les rendements\n",
        "print(\"Agriculture ETF Returns:\")\n",
        "print(df1)\n",
        "print(\"\\nTransport ETF Returns:\")\n",
        "print(df2)\n",
        "print(\"\\nEnergy ETF Returns:\")\n",
        "print(df3)\n",
        "\n",
        "# Sauvegarder les rendements dans des fichiers Excel\n",
        "df1.to_excel('agriculture_etf_returns.xlsx')\n",
        "df2.to_excel('transport_etf_returns.xlsx')\n",
        "df3.to_excel('energy_etf_returns.xlsx')"
      ],
      "metadata": {
        "colab": {
          "base_uri": "https://localhost:8080/"
        },
        "id": "EZL8KZIv91oz",
        "outputId": "7c9ce784-b237-49e3-8034-a4fa62e92318"
      },
      "execution_count": null,
      "outputs": [
        {
          "output_type": "stream",
          "name": "stdout",
          "text": [
            "Agriculture ETF Returns:\n",
            "Date\n",
            "2019-08-06   -0.003877\n",
            "2019-08-07   -0.009211\n",
            "2019-08-08    0.020951\n",
            "2019-08-09    0.004489\n",
            "2019-08-12   -0.007789\n",
            "                ...   \n",
            "2024-07-30   -0.003303\n",
            "2024-07-31   -0.007954\n",
            "2024-08-01   -0.001336\n",
            "2024-08-02    0.009367\n",
            "2024-08-05   -0.008617\n",
            "Name: Close, Length: 1262, dtype: float64\n",
            "\n",
            "Transport ETF Returns:\n",
            "Date\n",
            "2019-08-07    0.006361\n",
            "2019-08-08    0.007223\n",
            "2019-08-09   -0.004482\n",
            "2019-08-12   -0.007654\n",
            "2019-08-13    0.008394\n",
            "                ...   \n",
            "2024-07-30    0.003295\n",
            "2024-07-31    0.008987\n",
            "2024-08-01   -0.020041\n",
            "2024-08-02   -0.007691\n",
            "2024-08-05   -0.022195\n",
            "Name: Close, Length: 1257, dtype: float64\n",
            "\n",
            "Energy ETF Returns:\n",
            "Date\n",
            "2019-08-06   -0.011052\n",
            "2019-08-07   -0.009508\n",
            "2019-08-08    0.018862\n",
            "2019-08-09   -0.010744\n",
            "2019-08-12   -0.004846\n",
            "                ...   \n",
            "2024-07-30   -0.001643\n",
            "2024-07-31    0.018788\n",
            "2024-08-01   -0.010903\n",
            "2024-08-02   -0.023816\n",
            "2024-08-05   -0.033738\n",
            "Name: Close, Length: 1274, dtype: float64\n"
          ]
        }
      ]
    },
    {
      "cell_type": "code",
      "source": [
        "df_agriculture = pd.DataFrame(df1)\n",
        "df_transport = pd.DataFrame(df2)\n",
        "df_energy = pd.DataFrame(df3)"
      ],
      "metadata": {
        "id": "EbrzeJRN-e09"
      },
      "execution_count": null,
      "outputs": []
    },
    {
      "cell_type": "code",
      "source": [
        "print(df_agriculture.head())\n",
        "print(df_transport.head())\n",
        "print(df_energy.head())"
      ],
      "metadata": {
        "colab": {
          "base_uri": "https://localhost:8080/"
        },
        "id": "pT3zTaS9-lGL",
        "outputId": "b98613a9-a56e-4c93-ef0d-4e89ed7176a1"
      },
      "execution_count": null,
      "outputs": [
        {
          "output_type": "stream",
          "name": "stdout",
          "text": [
            "               Close\n",
            "Date                \n",
            "2019-08-06 -0.003877\n",
            "2019-08-07 -0.009211\n",
            "2019-08-08  0.020951\n",
            "2019-08-09  0.004489\n",
            "2019-08-12 -0.007789\n",
            "               Close\n",
            "Date                \n",
            "2019-08-07  0.006361\n",
            "2019-08-08  0.007223\n",
            "2019-08-09 -0.004482\n",
            "2019-08-12 -0.007654\n",
            "2019-08-13  0.008394\n",
            "               Close\n",
            "Date                \n",
            "2019-08-06 -0.011052\n",
            "2019-08-07 -0.009508\n",
            "2019-08-08  0.018862\n",
            "2019-08-09 -0.010744\n",
            "2019-08-12 -0.004846\n"
          ]
        }
      ]
    },
    {
      "cell_type": "code",
      "source": [
        "!pip install meteostat"
      ],
      "metadata": {
        "colab": {
          "base_uri": "https://localhost:8080/"
        },
        "id": "0DPKyA-Lj-jU",
        "outputId": "c038d371-39c5-495d-ca49-58c0ef38c2c9"
      },
      "execution_count": null,
      "outputs": [
        {
          "output_type": "stream",
          "name": "stdout",
          "text": [
            "Collecting meteostat\n",
            "  Downloading meteostat-1.6.8-py3-none-any.whl.metadata (4.6 kB)\n",
            "Requirement already satisfied: pandas>=1.1 in /usr/local/lib/python3.10/dist-packages (from meteostat) (2.1.4)\n",
            "Requirement already satisfied: pytz in /usr/local/lib/python3.10/dist-packages (from meteostat) (2024.1)\n",
            "Requirement already satisfied: numpy in /usr/local/lib/python3.10/dist-packages (from meteostat) (1.26.4)\n",
            "Requirement already satisfied: python-dateutil>=2.8.2 in /usr/local/lib/python3.10/dist-packages (from pandas>=1.1->meteostat) (2.8.2)\n",
            "Requirement already satisfied: tzdata>=2022.1 in /usr/local/lib/python3.10/dist-packages (from pandas>=1.1->meteostat) (2024.1)\n",
            "Requirement already satisfied: six>=1.5 in /usr/local/lib/python3.10/dist-packages (from python-dateutil>=2.8.2->pandas>=1.1->meteostat) (1.16.0)\n",
            "Downloading meteostat-1.6.8-py3-none-any.whl (31 kB)\n",
            "Installing collected packages: meteostat\n",
            "Successfully installed meteostat-1.6.8\n"
          ]
        }
      ]
    },
    {
      "cell_type": "code",
      "source": [
        "from meteostat import Point, Daily\n",
        "from datetime import datetime\n",
        "import pandas as pd\n",
        "\n",
        "# Définir la période d'étude\n",
        "start = datetime(2019, 8, 5)\n",
        "end = datetime(2024, 8, 2)\n",
        "\n",
        "# Définir les coordonnées géographiques pour plusieurs villes européennes (par exemple, Paris, Berlin, Madrid)\n",
        "locations = {\n",
        "    'Paris': Point(48.8566, 2.3522),\n",
        "    'Berlin': Point(52.5200, 13.4050),\n",
        "    'Madrid': Point(40.4168, -3.7038)\n",
        "}\n",
        "\n",
        "# Télécharger les données météorologiques pour chaque ville\n",
        "data_frames = []\n",
        "for city, location in locations.items():\n",
        "    data = Daily(location, start, end)\n",
        "    data = data.fetch()\n",
        "    data['City'] = city\n",
        "    data_frames.append(data)\n",
        "\n",
        "# Combiner les données dans un seul DataFrame\n",
        "df = pd.concat(data_frames)\n",
        "\n",
        "# Afficher les données\n",
        "print(df)\n",
        "\n",
        "# Sauvegarder les données dans un fichier Excel\n",
        "df.to_excel('europe_weather_data.xlsx', sheet_name='WeatherData')"
      ],
      "metadata": {
        "colab": {
          "base_uri": "https://localhost:8080/"
        },
        "id": "OgoQ6HzvjAgM",
        "outputId": "9c7e7618-adec-442a-8db3-efdc9b5e6c2f"
      },
      "execution_count": null,
      "outputs": [
        {
          "output_type": "stream",
          "name": "stderr",
          "text": [
            "Warning: Cannot load daily/ETNB0.csv.gz from https://bulk.meteostat.net/v2/\n"
          ]
        },
        {
          "output_type": "stream",
          "name": "stdout",
          "text": [
            "            tavg  tmin  tmax  prcp  snow   wdir  wspd  wpgt    pres  tsun  \\\n",
            "time                                                                        \n",
            "2019-08-05  23.3  18.4  28.1   0.0   NaN  271.0  11.0  39.0  1013.2   NaN   \n",
            "2019-08-06  20.5  18.5  25.5   0.0   NaN  252.0   7.8  33.3  1011.9   NaN   \n",
            "2019-08-07  21.4  17.4  26.5  19.3   NaN  253.0   8.9  35.2  1009.9   NaN   \n",
            "2019-08-08  23.6  16.4  29.9   0.0   NaN  174.0   7.2  33.3  1011.0   NaN   \n",
            "2019-08-09  22.1  20.6  27.3   0.0   NaN  199.0   9.6  55.5  1007.3   NaN   \n",
            "...          ...   ...   ...   ...   ...    ...   ...   ...     ...   ...   \n",
            "2024-07-29  29.3  24.8  35.0   0.8   NaN   71.0  11.3   NaN  1016.5   NaN   \n",
            "2024-07-30  31.1  23.2  39.2   0.0   NaN  133.0  15.1   NaN  1013.9   NaN   \n",
            "2024-07-31  30.6  22.8  36.8   0.0   NaN  236.0  12.4   NaN  1013.3   NaN   \n",
            "2024-08-01  30.3  20.9  37.6   0.0   NaN  246.0  11.8   NaN  1012.4   NaN   \n",
            "2024-08-02  28.7  22.1  33.9   0.0   NaN  336.0  12.4   NaN  1011.0   NaN   \n",
            "\n",
            "              City  \n",
            "time                \n",
            "2019-08-05   Paris  \n",
            "2019-08-06   Paris  \n",
            "2019-08-07   Paris  \n",
            "2019-08-08   Paris  \n",
            "2019-08-09   Paris  \n",
            "...            ...  \n",
            "2024-07-29  Madrid  \n",
            "2024-07-30  Madrid  \n",
            "2024-07-31  Madrid  \n",
            "2024-08-01  Madrid  \n",
            "2024-08-02  Madrid  \n",
            "\n",
            "[5475 rows x 11 columns]\n"
          ]
        }
      ]
    }
  ]
}